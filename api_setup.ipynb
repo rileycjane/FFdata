{
 "cells": [
  {
   "cell_type": "code",
   "execution_count": 1,
   "id": "b398b712",
   "metadata": {},
   "outputs": [],
   "source": [
    "from espn_api.football import League\n",
    "import numpy as np\n",
    "import pandas as pd\n",
    "from matplotlib import pyplot as plt\n",
    "import json"
   ]
  },
  {
   "cell_type": "markdown",
   "id": "190ada9e",
   "metadata": {},
   "source": [
    "Importing league data"
   ]
  },
  {
   "cell_type": "code",
   "execution_count": 2,
   "id": "c67149d5",
   "metadata": {},
   "outputs": [],
   "source": [
    "league_id = 49765217\n",
    "year = 2021\n",
    "swid='{771D2F0F-5C54-4553-8582-FCC07D235F88}'\n",
    "espn_s2='AEAFCR%2F9i%2Bb3h4hoHm9sjfpXH0lhBDKmfgKEV8nU5aAocybEqSM9tlUJ1CpJtgcBN9ZKLgZM42hmCLMYICupuwIUpkZaBnDhdd886U9o8a1%2F9Sml5Vn0kSRvVGUGblNLTuxoFwBkwPyzY%2FKqdLtnqXD3DVKtATcN4Lu2VnleVW6soxz6GP7m84wgUIo5cF6b%2FcDRgg8uE8XMVmeacZGwLlouk5pdsy19MQSRjsTXcBvxZdkaA0PdId4RnS16s9Gsbbo77BdqrB4QWbiQqOx4SP4jrseK%2FVYBTDLSPmdsnVlOBw%3D%3D'\n",
    "league = League(league_id,year,espn_s2,swid)\n"
   ]
  },
  {
   "cell_type": "markdown",
   "id": "14a8467a",
   "metadata": {},
   "source": [
    "Importing ADP data for 2021 and defining functionality to search by name"
   ]
  },
  {
   "cell_type": "code",
   "execution_count": 3,
   "id": "a2f91a99",
   "metadata": {},
   "outputs": [],
   "source": [
    "with open(\"ADPdata2021.json\") as f:\n",
    "    adp=json.load(f)\n",
    "    \n",
    "def searchADPByName(name):\n",
    "    try:\n",
    "        result = [x for x in adp[\"Players\"] if x[\"Name\"]==name]\n",
    "    except:\n",
    "        return\n",
    "    return result\n"
   ]
  },
  {
   "cell_type": "markdown",
   "id": "d6f4c3cb",
   "metadata": {},
   "source": [
    "attempting to collect some data and plot"
   ]
  },
  {
   "cell_type": "code",
   "execution_count": 4,
   "id": "851f8baa",
   "metadata": {},
   "outputs": [],
   "source": [
    "teamCoad = league.teams[15]\n",
    "teams = []\n",
    "for team in league.teams:\n",
    "    teams.append(team.team_abbrev)"
   ]
  },
  {
   "cell_type": "code",
   "execution_count": 7,
   "id": "efa883c4",
   "metadata": {},
   "outputs": [],
   "source": [
    "def draftByTeam(xteam):\n",
    "    draft=[]\n",
    "    for pick in league.draft:\n",
    "        if pick.team == xteam:\n",
    "            draftPick=((pick.round_num - 1)*16)+pick.round_pick\n",
    "            onePick=(pick.playerName,draftPick)\n",
    "            draft.append(onePick)\n",
    "    return draft"
   ]
  },
  {
   "cell_type": "code",
   "execution_count": 8,
   "id": "56793b21",
   "metadata": {},
   "outputs": [
    {
     "name": "stdout",
     "output_type": "stream",
     "text": [
      "Player not found\n"
     ]
    }
   ],
   "source": [
    "myDraft = draftByTeam(teamCoad)\n",
    "averages=[]\n",
    "for pick in myDraft:\n",
    "    avgADP = searchADPByName(pick[0])\n",
    "    try:\n",
    "        averages.append([avgADP[0][\"Name\"],avgADP[0][\"AverageDraftPosition\"],pick[1]])\n",
    "    except:\n",
    "        print(\"Player not found\")"
   ]
  },
  {
   "cell_type": "code",
   "execution_count": null,
   "id": "59f58b72",
   "metadata": {},
   "outputs": [],
   "source": []
  }
 ],
 "metadata": {
  "kernelspec": {
   "display_name": "Python 3",
   "language": "python",
   "name": "python3"
  },
  "language_info": {
   "codemirror_mode": {
    "name": "ipython",
    "version": 3
   },
   "file_extension": ".py",
   "mimetype": "text/x-python",
   "name": "python",
   "nbconvert_exporter": "python",
   "pygments_lexer": "ipython3",
   "version": "3.9.1"
  }
 },
 "nbformat": 4,
 "nbformat_minor": 5
}
