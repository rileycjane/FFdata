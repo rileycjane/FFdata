{
 "cells": [
  {
   "cell_type": "code",
   "execution_count": 60,
   "id": "b398b712",
   "metadata": {},
   "outputs": [],
   "source": [
    "from espn_api.football import League\n",
    "import numpy as np\n",
    "import pandas as pd\n",
    "import json"
   ]
  },
  {
   "cell_type": "markdown",
   "id": "190ada9e",
   "metadata": {},
   "source": [
    "Importing league data"
   ]
  },
  {
   "cell_type": "code",
   "execution_count": 12,
   "id": "c67149d5",
   "metadata": {},
   "outputs": [],
   "source": [
    "league_id = 49765217\n",
    "year = 2021\n",
    "swid='{771D2F0F-5C54-4553-8582-FCC07D235F88}'\n",
    "espn_s2='AEAFCR%2F9i%2Bb3h4hoHm9sjfpXH0lhBDKmfgKEV8nU5aAocybEqSM9tlUJ1CpJtgcBN9ZKLgZM42hmCLMYICupuwIUpkZaBnDhdd886U9o8a1%2F9Sml5Vn0kSRvVGUGblNLTuxoFwBkwPyzY%2FKqdLtnqXD3DVKtATcN4Lu2VnleVW6soxz6GP7m84wgUIo5cF6b%2FcDRgg8uE8XMVmeacZGwLlouk5pdsy19MQSRjsTXcBvxZdkaA0PdId4RnS16s9Gsbbo77BdqrB4QWbiQqOx4SP4jrseK%2FVYBTDLSPmdsnVlOBw%3D%3D'\n",
    "league = League(league_id,year,espn_s2,swid)\n"
   ]
  },
  {
   "cell_type": "markdown",
   "id": "14a8467a",
   "metadata": {},
   "source": [
    "Importing ADP data for 2021 and defining functionality to search by name"
   ]
  },
  {
   "cell_type": "code",
   "execution_count": 63,
   "id": "a2f91a99",
   "metadata": {},
   "outputs": [],
   "source": [
    "with open(\"/Users/rileycoad/Desktop/adp.json\") as f:\n",
    "    adp=json.load(f)\n",
    "    \n",
    "def searchByName(name):\n",
    "    result = [x for x in adp[\"Players\"] if x[\"Name\"]==name]\n",
    "    return result\n"
   ]
  },
  {
   "cell_type": "code",
   "execution_count": 65,
   "id": "85ae9b66",
   "metadata": {},
   "outputs": [
    {
     "data": {
      "text/plain": [
       "[{'Name': 'Nick Chubb',\n",
       "  'Team': 'CLE',\n",
       "  'Position': 'RB',\n",
       "  'ByeWeek': 13,\n",
       "  'Age': 26,\n",
       "  'AverageDraftPosition': 6.1,\n",
       "  'Week1ADP': None,\n",
       "  'Week2ADP': None,\n",
       "  'Week3ADP': None,\n",
       "  'HighestADP': None,\n",
       "  'LowestADP': None,\n",
       "  'Rank': 6,\n",
       "  'PositionRank': 'RB6'}]"
      ]
     },
     "execution_count": 65,
     "metadata": {},
     "output_type": "execute_result"
    }
   ],
   "source": [
    "player=searchByName(\"Nick Chubb\")\n",
    "player"
   ]
  },
  {
   "cell_type": "code",
   "execution_count": null,
   "id": "47c44cc5",
   "metadata": {},
   "outputs": [],
   "source": []
  }
 ],
 "metadata": {
  "kernelspec": {
   "display_name": "Python 3",
   "language": "python",
   "name": "python3"
  },
  "language_info": {
   "codemirror_mode": {
    "name": "ipython",
    "version": 3
   },
   "file_extension": ".py",
   "mimetype": "text/x-python",
   "name": "python",
   "nbconvert_exporter": "python",
   "pygments_lexer": "ipython3",
   "version": "3.9.1"
  }
 },
 "nbformat": 4,
 "nbformat_minor": 5
}
