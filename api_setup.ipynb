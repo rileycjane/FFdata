{
 "cells": [
  {
   "cell_type": "code",
   "execution_count": 33,
   "id": "b398b712",
   "metadata": {},
   "outputs": [],
   "source": [
    "from espn_api.football import League\n",
    "import numpy as np\n",
    "import pandas as pd\n",
    "from matplotlib import pyplot as plt\n",
    "import json"
   ]
  },
  {
   "cell_type": "markdown",
   "id": "190ada9e",
   "metadata": {},
   "source": [
    "Importing league data"
   ]
  },
  {
   "cell_type": "code",
   "execution_count": 34,
   "id": "c67149d5",
   "metadata": {},
   "outputs": [],
   "source": [
    "league_id = 49765217\n",
    "year = 2021\n",
    "swid='{771D2F0F-5C54-4553-8582-FCC07D235F88}'\n",
    "espn_s2='AEAFCR%2F9i%2Bb3h4hoHm9sjfpXH0lhBDKmfgKEV8nU5aAocybEqSM9tlUJ1CpJtgcBN9ZKLgZM42hmCLMYICupuwIUpkZaBnDhdd886U9o8a1%2F9Sml5Vn0kSRvVGUGblNLTuxoFwBkwPyzY%2FKqdLtnqXD3DVKtATcN4Lu2VnleVW6soxz6GP7m84wgUIo5cF6b%2FcDRgg8uE8XMVmeacZGwLlouk5pdsy19MQSRjsTXcBvxZdkaA0PdId4RnS16s9Gsbbo77BdqrB4QWbiQqOx4SP4jrseK%2FVYBTDLSPmdsnVlOBw%3D%3D'\n",
    "league2021 = League(league_id,year,espn_s2,swid)\n"
   ]
  },
  {
   "cell_type": "markdown",
   "id": "14a8467a",
   "metadata": {},
   "source": [
    "Importing ADP data for 2021 and defining functionality to search by name"
   ]
  },
  {
   "cell_type": "code",
   "execution_count": 35,
   "id": "a2f91a99",
   "metadata": {},
   "outputs": [],
   "source": [
    "with open(\"ADPdata2021.json\") as f:\n",
    "    adp=json.load(f)\n",
    "    \n",
    "def searchADPByName(name):\n",
    "    try:\n",
    "        result = [x for x in adp[\"Players\"] if x[\"Name\"]==name]\n",
    "    except:\n",
    "        return\n",
    "    return result\n"
   ]
  },
  {
   "cell_type": "markdown",
   "id": "3ef91086",
   "metadata": {},
   "source": [
    "attempting to collect some data and plot"
   ]
  },
  {
   "cell_type": "code",
   "execution_count": 36,
   "id": "01642959",
   "metadata": {},
   "outputs": [],
   "source": [
    "teamCoad = league.teams[15]\n",
    "teams = []\n",
    "for team in league.teams:\n",
    "    teams.append(team.team_abbrev)"
   ]
  },
  {
   "cell_type": "code",
   "execution_count": 69,
   "id": "79df44fa",
   "metadata": {},
   "outputs": [],
   "source": [
    "def draftByTeam(xLeague,xTeam):\n",
    "    xDraft = []\n",
    "    xLeagueSize=len(xLeague.teams)\n",
    "    for pick in xLeague.draft:\n",
    "        if pick.team.team_id == xTeam.team_id:\n",
    "            xPickNum=((pick.round_num - 1)*xLeagueSize)+pick.round_pick\n",
    "            xAvgADP = searchADPByName(pick.playerName)\n",
    "            try:\n",
    "                xADP = xAvgADP[0][\"AverageDraftPosition\"]\n",
    "            except:\n",
    "                xADP= 0 \n",
    "            xPick=[pick.playerName,xPickNum,xADP]\n",
    "            xDraft.append(xPick)\n",
    "    return xDraft"
   ]
  },
  {
   "cell_type": "code",
   "execution_count": 72,
   "id": "e3dc0189",
   "metadata": {},
   "outputs": [],
   "source": [
    "myDraft = draftByTeam(league2021,teamCoad)"
   ]
  },
  {
   "cell_type": "code",
   "execution_count": 73,
   "id": "4baa4332",
   "metadata": {},
   "outputs": [
    {
     "data": {
      "text/plain": [
       "[['Davante Adams', 7, 7.6],\n",
       " ['Miles Sanders', 26, 34.1],\n",
       " ['Chase Edmonds', 39, 64],\n",
       " ['Tee Higgins', 58, 70],\n",
       " ['Courtland Sutton', 71, 84.2],\n",
       " ['Dallas Goedert', 90, 100.4],\n",
       " ['Matthew Stafford', 103, 82.5],\n",
       " ['Michael Carter', 122, 81.1],\n",
       " ['Alexander Mattison', 135, 110.5],\n",
       " ['Terrace Marshall Jr.', 154, 163.4],\n",
       " ['Daniel Jones', 167, 184],\n",
       " ['Nico Collins', 186, 178],\n",
       " ['Vikings D/ST', 199, 0],\n",
       " ['Daniel Carlson', 218, 165.6]]"
      ]
     },
     "execution_count": 73,
     "metadata": {},
     "output_type": "execute_result"
    }
   ],
   "source": [
    "myDraft"
   ]
  },
  {
   "cell_type": "code",
   "execution_count": null,
   "id": "00bedafa",
   "metadata": {},
   "outputs": [],
   "source": []
  },
  {
   "cell_type": "code",
   "execution_count": null,
   "id": "9543b674",
   "metadata": {},
   "outputs": [],
   "source": []
  },
  {
   "cell_type": "code",
   "execution_count": null,
   "id": "fe0e9d92",
   "metadata": {},
   "outputs": [],
   "source": []
  }
 ],
 "metadata": {
  "kernelspec": {
   "display_name": "Python 3",
   "language": "python",
   "name": "python3"
  },
  "language_info": {
   "codemirror_mode": {
    "name": "ipython",
    "version": 3
   },
   "file_extension": ".py",
   "mimetype": "text/x-python",
   "name": "python",
   "nbconvert_exporter": "python",
   "pygments_lexer": "ipython3",
   "version": "3.9.1"
  }
 },
 "nbformat": 4,
 "nbformat_minor": 5
}
